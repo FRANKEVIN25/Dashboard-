{
  "cells": [
    {
      "cell_type": "code",
      "source": [
        "!wget -O \"2023-Gasto-Mensual.csv\" \"https://fs.datosabiertos.mef.gob.pe/datastorefiles/2023-Gasto-Mensual.csv\""
      ],
      "metadata": {
        "id": "r7XNEEv7be1S",
        "outputId": "069569a7-cd6b-442f-bc8b-03e030d513b5",
        "colab": {
          "base_uri": "https://localhost:8080/"
        }
      },
      "execution_count": 1,
      "outputs": [
        {
          "output_type": "stream",
          "name": "stdout",
          "text": [
            "--2024-11-14 03:13:34--  https://fs.datosabiertos.mef.gob.pe/datastorefiles/2023-Gasto-Mensual.csv\n",
            "Resolving fs.datosabiertos.mef.gob.pe (fs.datosabiertos.mef.gob.pe)... 200.39.148.204\n",
            "Connecting to fs.datosabiertos.mef.gob.pe (fs.datosabiertos.mef.gob.pe)|200.39.148.204|:443... connected.\n",
            "HTTP request sent, awaiting response... 200 OK\n",
            "Length: 9758912216 (9.1G) [application/octet-stream]\n",
            "Saving to: ‘gasto-mensual.csv’\n",
            "\n",
            "gasto-mensual.csv   100%[===================>]   9.09G  23.9MB/s    in 6m 49s  \n",
            "\n",
            "2024-11-14 03:20:24 (22.8 MB/s) - ‘gasto-mensual.csv’ saved [9758912216/9758912216]\n",
            "\n"
          ]
        }
      ]
    },
    {
      "cell_type": "code",
      "source": [
        "def split_file(entrada, salida, porcion=524288):\n",
        "    input_file = open(entrada, encoding=\"utf-8\")        # Codificación utf-8 para evitar errores\n",
        "\n",
        "    counter = 0         # Contador de líneas\n",
        "    part = 0            # Contador de partes\n",
        "\n",
        "    output_file = open(salida+str(part)+\".csv\", \"a\", encoding=\"utf-8\")\n",
        "\n",
        "    for line in input_file:                             # Barrido de líneas\n",
        "        if counter % porcion == 0 and counter != 0:     # Porciones\n",
        "            print(\"Escrito el archivo: \"+salida+str(part))\n",
        "            output_file.close()\n",
        "            part += 1\n",
        "            output_file = open(salida+str(part)+\".csv\", \"a\", encoding=\"utf-8\")\n",
        "        output_file.write(line)                         # Escribir líneas\n",
        "        counter += 1\n",
        "    print(\"Archivos divididos exitosamente: \"+str(part+1))    # Mensaje final\n",
        "\n",
        "split_file(\"2023-Gasto-Mensual.csv\", \"2023-Gasto-Mensual-Parte\")"
      ],
      "metadata": {
        "id": "SDAfKCZ9g0p2",
        "colab": {
          "base_uri": "https://localhost:8080/"
        },
        "outputId": "f2616c43-b2d3-47b4-80e2-e9f40ccc4840"
      },
      "execution_count": 2,
      "outputs": [
        {
          "output_type": "stream",
          "name": "stdout",
          "text": [
            "Escrito el archivo: 2023-Gasto-Mensual-Parte0\n",
            "Escrito el archivo: 2023-Gasto-Mensual-Parte1\n",
            "Escrito el archivo: 2023-Gasto-Mensual-Parte2\n",
            "Escrito el archivo: 2023-Gasto-Mensual-Parte3\n",
            "Escrito el archivo: 2023-Gasto-Mensual-Parte4\n",
            "Escrito el archivo: 2023-Gasto-Mensual-Parte5\n",
            "Escrito el archivo: 2023-Gasto-Mensual-Parte6\n",
            "Escrito el archivo: 2023-Gasto-Mensual-Parte7\n",
            "Escrito el archivo: 2023-Gasto-Mensual-Parte8\n",
            "Escrito el archivo: 2023-Gasto-Mensual-Parte9\n",
            "Escrito el archivo: 2023-Gasto-Mensual-Parte10\n",
            "Escrito el archivo: 2023-Gasto-Mensual-Parte11\n",
            "Escrito el archivo: 2023-Gasto-Mensual-Parte12\n",
            "Escrito el archivo: 2023-Gasto-Mensual-Parte13\n",
            "Escrito el archivo: 2023-Gasto-Mensual-Parte14\n",
            "Escrito el archivo: 2023-Gasto-Mensual-Parte15\n",
            "Escrito el archivo: 2023-Gasto-Mensual-Parte16\n",
            "Escrito el archivo: 2023-Gasto-Mensual-Parte17\n",
            "Escrito el archivo: 2023-Gasto-Mensual-Parte18\n",
            "Escrito el archivo: 2023-Gasto-Mensual-Parte19\n",
            "Archivos divididos exitosamente: 21\n"
          ]
        }
      ]
    },
    {
      "cell_type": "code",
      "source": [
        "d_types = {0: 'int64', 1: 'int64', 2: 'str', 3: 'str', 4: 'str', 5: 'str', 6: 'str', 7: 'str', 8: 'str', 9: 'str', 10: 'str', 11: 'str', 12: 'str', 13: 'str', 14: 'str', 15: 'str', 16: 'str', 17: 'int64', 18: 'int64', 19: 'str', 20: 'int64', 21: 'str', 22: 'int64', 23: 'str', 24: 'int64', 25: 'str', 26: 'str', 27: 'str', 28: 'str', 29: 'str', 30: 'str', 31: 'str', 32: 'str', 33: 'str', 34: 'str', 35: 'str', 36: 'str', 37: 'str', 38: 'str', 39: 'str', 40: 'str', 41: 'str', 42: 'str', 43: 'int64', 44: 'str', 45: 'int64', 46: 'int64', 47: 'str', 48: 'int64', 49: 'str', 50: 'int64', 51: 'str', 52: 'int64', 53: 'str', 54: 'int64', 55: 'str', 56: 'int64', 57: 'int64', 58: 'float64', 59: 'float64', 60: 'float64', 61: 'float64', 62: 'float64'}"
      ],
      "metadata": {
        "id": "yhGJ13Oah0U9"
      },
      "execution_count": 3,
      "outputs": []
    }
  ],
  "metadata": {
    "colab": {
      "provenance": []
    },
    "kernelspec": {
      "display_name": "Python 3",
      "name": "python3"
    }
  },
  "nbformat": 4,
  "nbformat_minor": 0
}